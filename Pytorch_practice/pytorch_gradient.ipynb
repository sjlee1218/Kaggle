{
 "cells": [
  {
   "cell_type": "code",
   "execution_count": 1,
   "metadata": {},
   "outputs": [],
   "source": [
    "# pracitce pytorch code via https://wingnim.tistory.com/entry/Pytorch-%EB%A8%B8%EC%8B%A0%EB%9F%AC%EB%8B%9D-%ED%8A%9C%ED%86%A0%EB%A6%AC%EC%96%BC-%EA%B0%95%EC%9D%98-3-Gradient-Descent\n",
    "\n",
    "\n",
    "import numpy as np\n",
    "import matplotlib.pyplot as plt"
   ]
  },
  {
   "cell_type": "code",
   "execution_count": 2,
   "metadata": {},
   "outputs": [],
   "source": [
    "def loss(y_val,y_hat):\n",
    "    diff = y_hat - y_val\n",
    "    return diff*diff\n",
    "\n",
    "def grad_a(y_hat, y_val, x):\n",
    "    return 2*(y_hat-y_val)*x*x*0.02\n",
    "\n",
    "def grad_b(y_hat, y_val, x):\n",
    "    return 2*(y_hat-y_val)*x*0.02\n",
    "    \n",
    "def grad_c(y_hat, y_val):    \n",
    "    return 2*(y_hat-y_val)*0.02\n",
    "    \n",
    "def hypothesis(a,b,c,x):\n",
    "    return a*x*x + b*x +c"
   ]
  },
  {
   "cell_type": "code",
   "execution_count": 3,
   "metadata": {},
   "outputs": [],
   "source": [
    "x_data=[1.0, 0.0, -1.0, 2.0 , -2.0]\n",
    "y_data=[4.0, 1.0, 0.0, 9.0 , 1.0]"
   ]
  },
  {
   "cell_type": "code",
   "execution_count": 4,
   "metadata": {},
   "outputs": [
    {
     "name": "stdout",
     "output_type": "stream",
     "text": [
      "start Gradient learning\n",
      "epoch:  0 a: 0.12, b: 1.05, c: 3.78, loss= 54.885\n",
      "epoch:  1 a: 0.20, b: 1.54, c: 3.58, loss= 3.741\n",
      "epoch:  2 a: 0.32, b: 1.80, c: 3.41, loss= 0.410\n",
      "epoch:  3 a: 0.41, b: 1.93, c: 3.24, loss= 0.005\n",
      "epoch:  4 a: 0.47, b: 1.99, c: 3.07, loss= 0.037\n",
      "epoch:  5 a: 0.52, b: 2.02, c: 2.91, loss= 0.094\n",
      "epoch:  6 a: 0.56, b: 2.04, c: 2.77, loss= 0.121\n",
      "epoch:  7 a: 0.60, b: 2.04, c: 2.63, loss= 0.124\n",
      "epoch:  8 a: 0.63, b: 2.04, c: 2.51, loss= 0.117\n",
      "epoch:  9 a: 0.66, b: 2.04, c: 2.39, loss= 0.105\n",
      "epoch:  10 a: 0.69, b: 2.04, c: 2.28, loss= 0.092\n",
      "epoch:  11 a: 0.71, b: 2.03, c: 2.18, loss= 0.079\n",
      "epoch:  12 a: 0.73, b: 2.03, c: 2.09, loss= 0.068\n",
      "epoch:  13 a: 0.75, b: 2.03, c: 2.01, loss= 0.058\n",
      "epoch:  14 a: 0.77, b: 2.03, c: 1.93, loss= 0.050\n",
      "epoch:  15 a: 0.79, b: 2.03, c: 1.86, loss= 0.042\n",
      "epoch:  16 a: 0.81, b: 2.02, c: 1.79, loss= 0.036\n",
      "epoch:  17 a: 0.82, b: 2.02, c: 1.73, loss= 0.031\n",
      "epoch:  18 a: 0.83, b: 2.02, c: 1.67, loss= 0.026\n",
      "epoch:  19 a: 0.85, b: 2.02, c: 1.62, loss= 0.022\n",
      "epoch:  20 a: 0.86, b: 2.02, c: 1.57, loss= 0.019\n",
      "epoch:  21 a: 0.87, b: 2.02, c: 1.53, loss= 0.016\n",
      "epoch:  22 a: 0.88, b: 2.01, c: 1.49, loss= 0.014\n",
      "epoch:  23 a: 0.89, b: 2.01, c: 1.45, loss= 0.012\n",
      "epoch:  24 a: 0.90, b: 2.01, c: 1.42, loss= 0.010\n",
      "epoch:  25 a: 0.91, b: 2.01, c: 1.38, loss= 0.008\n",
      "epoch:  26 a: 0.91, b: 2.01, c: 1.35, loss= 0.007\n",
      "epoch:  27 a: 0.92, b: 2.01, c: 1.33, loss= 0.006\n",
      "epoch:  28 a: 0.93, b: 2.01, c: 1.30, loss= 0.005\n",
      "epoch:  29 a: 0.93, b: 2.01, c: 1.28, loss= 0.004\n",
      "epoch:  30 a: 0.94, b: 2.01, c: 1.26, loss= 0.004\n",
      "epoch:  31 a: 0.94, b: 2.01, c: 1.24, loss= 0.003\n",
      "epoch:  32 a: 0.95, b: 2.01, c: 1.22, loss= 0.003\n",
      "epoch:  33 a: 0.95, b: 2.01, c: 1.20, loss= 0.002\n",
      "epoch:  34 a: 0.95, b: 2.01, c: 1.19, loss= 0.002\n",
      "epoch:  35 a: 0.96, b: 2.01, c: 1.17, loss= 0.002\n",
      "epoch:  36 a: 0.96, b: 2.00, c: 1.16, loss= 0.001\n",
      "epoch:  37 a: 0.96, b: 2.00, c: 1.15, loss= 0.001\n",
      "epoch:  38 a: 0.97, b: 2.00, c: 1.14, loss= 0.001\n",
      "epoch:  39 a: 0.97, b: 2.00, c: 1.12, loss= 0.001\n",
      "epoch:  40 a: 0.97, b: 2.00, c: 1.12, loss= 0.001\n",
      "epoch:  41 a: 0.97, b: 2.00, c: 1.11, loss= 0.001\n",
      "epoch:  42 a: 0.98, b: 2.00, c: 1.10, loss= 0.001\n",
      "epoch:  43 a: 0.98, b: 2.00, c: 1.09, loss= 0.000\n",
      "epoch:  44 a: 0.98, b: 2.00, c: 1.08, loss= 0.000\n",
      "epoch:  45 a: 0.98, b: 2.00, c: 1.08, loss= 0.000\n",
      "epoch:  46 a: 0.98, b: 2.00, c: 1.07, loss= 0.000\n",
      "epoch:  47 a: 0.98, b: 2.00, c: 1.07, loss= 0.000\n",
      "epoch:  48 a: 0.99, b: 2.00, c: 1.06, loss= 0.000\n",
      "epoch:  49 a: 0.99, b: 2.00, c: 1.06, loss= 0.000\n",
      "epoch:  50 a: 0.99, b: 2.00, c: 1.05, loss= 0.000\n",
      "epoch:  51 a: 0.99, b: 2.00, c: 1.05, loss= 0.000\n",
      "epoch:  52 a: 0.99, b: 2.00, c: 1.04, loss= 0.000\n",
      "epoch:  53 a: 0.99, b: 2.00, c: 1.04, loss= 0.000\n",
      "epoch:  54 a: 0.99, b: 2.00, c: 1.04, loss= 0.000\n",
      "epoch:  55 a: 0.99, b: 2.00, c: 1.03, loss= 0.000\n",
      "epoch:  56 a: 0.99, b: 2.00, c: 1.03, loss= 0.000\n",
      "epoch:  57 a: 0.99, b: 2.00, c: 1.03, loss= 0.000\n",
      "epoch:  58 a: 0.99, b: 2.00, c: 1.03, loss= 0.000\n",
      "epoch:  59 a: 0.99, b: 2.00, c: 1.02, loss= 0.000\n",
      "a: 0.99, b: 2.00, c: 1.02\n",
      "predict:  3.9677079976297405\n"
     ]
    }
   ],
   "source": [
    "a=3\n",
    "b=1\n",
    "c=5\n",
    "\n",
    "print(\"start Gradient learning\")\n",
    "for epoch in range(60):\n",
    "    for x_val, y_val in zip(x_data,y_data):\n",
    "        y_hat=hypothesis(a,b,c,x_val)\n",
    "        a=a - grad_a(y_hat, y_val, x_val)\n",
    "        b = b- grad_b(y_hat, y_val, x_val)\n",
    "        c = c-grad_c(y_hat, y_val)\n",
    "        error=loss(y_val, y_hat)\n",
    "        \n",
    "    print(\"epoch: \",epoch, \"a: {0:.2f}, b: {1:.2f}, c: {2:.2f}, loss= {3:.3f}\".format(a,b,c, error))\n",
    "\n",
    "print(\"a: {0:.2f}, b: {1:.2f}, c: {2:.2f}\".format(a,b,c))\n",
    "print(\"predict: \", hypothesis(a,b,c,-3))"
   ]
  },
  {
   "cell_type": "code",
   "execution_count": null,
   "metadata": {},
   "outputs": [],
   "source": []
  }
 ],
 "metadata": {
  "kernelspec": {
   "display_name": "Python 3",
   "language": "python",
   "name": "python3"
  },
  "language_info": {
   "codemirror_mode": {
    "name": "ipython",
    "version": 3
   },
   "file_extension": ".py",
   "mimetype": "text/x-python",
   "name": "python",
   "nbconvert_exporter": "python",
   "pygments_lexer": "ipython3",
   "version": "3.6.8"
  }
 },
 "nbformat": 4,
 "nbformat_minor": 2
}
